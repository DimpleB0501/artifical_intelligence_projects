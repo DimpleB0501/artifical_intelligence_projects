{
  "nbformat": 4,
  "nbformat_minor": 0,
  "metadata": {
    "colab": {
      "name": "MNISTwithPytorchAndColab.ipynb",
      "version": "0.3.2",
      "provenance": [],
      "collapsed_sections": [],
      "include_colab_link": true
    },
    "kernelspec": {
      "name": "python3",
      "display_name": "Python 3"
    }
  },
  "cells": [
    {
      "cell_type": "markdown",
      "metadata": {
        "id": "view-in-github",
        "colab_type": "text"
      },
      "source": [
        "<a href=\"https://colab.research.google.com/github/DimpleB0501/SecureNPrivateAIScholarshipCodes/blob/master/GettingStartedWithColab/MNISTwithPytorchAndColab.ipynb\" target=\"_parent\"><img src=\"https://colab.research.google.com/assets/colab-badge.svg\" alt=\"Open In Colab\"/></a>"
      ]
    },
    {
      "cell_type": "markdown",
      "metadata": {
        "id": "nThnpeY2mAaL",
        "colab_type": "text"
      },
      "source": [
        "# Installing libraries"
      ]
    },
    {
      "cell_type": "code",
      "metadata": {
        "id": "PEI9UlPMjAOJ",
        "colab_type": "code",
        "outputId": "dd19dc00-6bca-4591-9f95-3d1fd4838d31",
        "colab": {
          "base_uri": "https://localhost:8080/",
          "height": 278
        }
      },
      "source": [
        "!pip3 install numpy\n",
        "!pip3 install torch torchvision\n",
        "!pip3 install matplotlib"
      ],
      "execution_count": 0,
      "outputs": [
        {
          "output_type": "stream",
          "text": [
            "Requirement already satisfied: numpy in /usr/local/lib/python3.6/dist-packages (1.16.4)\n",
            "Requirement already satisfied: torch in /usr/local/lib/python3.6/dist-packages (1.1.0)\n",
            "Requirement already satisfied: torchvision in /usr/local/lib/python3.6/dist-packages (0.3.0)\n",
            "Requirement already satisfied: numpy in /usr/local/lib/python3.6/dist-packages (from torch) (1.16.4)\n",
            "Requirement already satisfied: pillow>=4.1.1 in /usr/local/lib/python3.6/dist-packages (from torchvision) (4.3.0)\n",
            "Requirement already satisfied: six in /usr/local/lib/python3.6/dist-packages (from torchvision) (1.12.0)\n",
            "Requirement already satisfied: olefile in /usr/local/lib/python3.6/dist-packages (from pillow>=4.1.1->torchvision) (0.46)\n",
            "Requirement already satisfied: matplotlib in /usr/local/lib/python3.6/dist-packages (3.0.3)\n",
            "Requirement already satisfied: cycler>=0.10 in /usr/local/lib/python3.6/dist-packages (from matplotlib) (0.10.0)\n",
            "Requirement already satisfied: pyparsing!=2.0.4,!=2.1.2,!=2.1.6,>=2.0.1 in /usr/local/lib/python3.6/dist-packages (from matplotlib) (2.4.0)\n",
            "Requirement already satisfied: kiwisolver>=1.0.1 in /usr/local/lib/python3.6/dist-packages (from matplotlib) (1.1.0)\n",
            "Requirement already satisfied: python-dateutil>=2.1 in /usr/local/lib/python3.6/dist-packages (from matplotlib) (2.5.3)\n",
            "Requirement already satisfied: numpy>=1.10.0 in /usr/local/lib/python3.6/dist-packages (from matplotlib) (1.16.4)\n",
            "Requirement already satisfied: six in /usr/local/lib/python3.6/dist-packages (from cycler>=0.10->matplotlib) (1.12.0)\n",
            "Requirement already satisfied: setuptools in /usr/local/lib/python3.6/dist-packages (from kiwisolver>=1.0.1->matplotlib) (41.0.1)\n"
          ],
          "name": "stdout"
        }
      ]
    },
    {
      "cell_type": "markdown",
      "metadata": {
        "id": "r2yB7nBAmH1Q",
        "colab_type": "text"
      },
      "source": [
        "#Import packages"
      ]
    },
    {
      "cell_type": "code",
      "metadata": {
        "id": "UWm6gINXmNC_",
        "colab_type": "code",
        "colab": {}
      },
      "source": [
        "import numpy as np\n",
        "import matplotlib.pyplot as plt\n",
        "\n",
        "import torch\n",
        "import torch.nn.functional as F\n",
        "import torch.nn as nn\n",
        "import torchvision.transforms as transforms\n",
        "\n",
        "from torchvision.datasets import MNIST\n",
        "from torch.utils.data import DataLoader\n",
        "from torch import optim"
      ],
      "execution_count": 0,
      "outputs": []
    },
    {
      "cell_type": "code",
      "metadata": {
        "id": "i3Wd8PGrmyfW",
        "colab_type": "code",
        "outputId": "fca68aeb-661b-47ac-8e65-de39cab5a328",
        "colab": {
          "base_uri": "https://localhost:8080/",
          "height": 34
        }
      },
      "source": [
        "print (\"Pytorch version:\", torch.__version__)"
      ],
      "execution_count": 0,
      "outputs": [
        {
          "output_type": "stream",
          "text": [
            "Pytorch version: 1.1.0\n"
          ],
          "name": "stdout"
        }
      ]
    },
    {
      "cell_type": "markdown",
      "metadata": {
        "id": "rJcW_pzgzc0a",
        "colab_type": "text"
      },
      "source": [
        "# Select GPU mode"
      ]
    },
    {
      "cell_type": "code",
      "metadata": {
        "id": "YRpsEh5uGRVQ",
        "colab_type": "code",
        "outputId": "c0409f06-7d4b-41cf-8b98-7bc3f3ed940d",
        "colab": {
          "base_uri": "https://localhost:8080/",
          "height": 34
        }
      },
      "source": [
        "# Check if GPU available\n",
        "if torch.cuda.is_available():\n",
        "  print (\"On GPU\")\n",
        "else :\n",
        "  print (\"No GPU available\")"
      ],
      "execution_count": 0,
      "outputs": [
        {
          "output_type": "stream",
          "text": [
            "On GPU\n"
          ],
          "name": "stdout"
        }
      ]
    },
    {
      "cell_type": "code",
      "metadata": {
        "id": "87yB5_QHzjp3",
        "colab_type": "code",
        "colab": {}
      },
      "source": [
        "device = 'cuda' if torch.cuda.is_available() else 'cpu'"
      ],
      "execution_count": 0,
      "outputs": []
    },
    {
      "cell_type": "markdown",
      "metadata": {
        "id": "KIOKWpvAnA6p",
        "colab_type": "text"
      },
      "source": [
        "# Loading MNIST dataset\n"
      ]
    },
    {
      "cell_type": "code",
      "metadata": {
        "id": "ZF7XzqPCnFsP",
        "colab_type": "code",
        "outputId": "013c9b1c-089e-4d72-b21f-f86ed72d35c9",
        "colab": {
          "base_uri": "https://localhost:8080/",
          "height": 280
        }
      },
      "source": [
        "# Define a transform to normalize the data\n",
        "trainTransform = transforms.Compose([transforms.ToTensor(),\n",
        "                                transforms.Normalize((0.5,), (0.5, )),\n",
        "                              ])\n",
        "\n",
        "# Use the same transform for the validation data\n",
        "validTransform = trainTransform\n",
        "\n",
        "# Download and load the training data\n",
        "trainSet = MNIST('~/.pytorch/MNIST_data/', download=True, train=True, transform=trainTransform)\n",
        "validSet = MNIST('~/.pytorch/MNIST_data/', download=True, train=False, transform=validTransform)"
      ],
      "execution_count": 0,
      "outputs": [
        {
          "output_type": "stream",
          "text": [
            "\r0it [00:00, ?it/s]"
          ],
          "name": "stderr"
        },
        {
          "output_type": "stream",
          "text": [
            "Downloading http://yann.lecun.com/exdb/mnist/train-images-idx3-ubyte.gz to /root/.pytorch/MNIST_data/MNIST/raw/train-images-idx3-ubyte.gz\n"
          ],
          "name": "stdout"
        },
        {
          "output_type": "stream",
          "text": [
            "9920512it [00:02, 3432932.39it/s]                             \n"
          ],
          "name": "stderr"
        },
        {
          "output_type": "stream",
          "text": [
            "Extracting /root/.pytorch/MNIST_data/MNIST/raw/train-images-idx3-ubyte.gz\n"
          ],
          "name": "stdout"
        },
        {
          "output_type": "stream",
          "text": [
            "\r0it [00:00, ?it/s]"
          ],
          "name": "stderr"
        },
        {
          "output_type": "stream",
          "text": [
            "Downloading http://yann.lecun.com/exdb/mnist/train-labels-idx1-ubyte.gz to /root/.pytorch/MNIST_data/MNIST/raw/train-labels-idx1-ubyte.gz\n"
          ],
          "name": "stdout"
        },
        {
          "output_type": "stream",
          "text": [
            "32768it [00:00, 57116.47it/s]                           \n",
            "0it [00:00, ?it/s]"
          ],
          "name": "stderr"
        },
        {
          "output_type": "stream",
          "text": [
            "Extracting /root/.pytorch/MNIST_data/MNIST/raw/train-labels-idx1-ubyte.gz\n",
            "Downloading http://yann.lecun.com/exdb/mnist/t10k-images-idx3-ubyte.gz to /root/.pytorch/MNIST_data/MNIST/raw/t10k-images-idx3-ubyte.gz\n"
          ],
          "name": "stdout"
        },
        {
          "output_type": "stream",
          "text": [
            "1654784it [00:01, 953445.18it/s]                             \n",
            "0it [00:00, ?it/s]"
          ],
          "name": "stderr"
        },
        {
          "output_type": "stream",
          "text": [
            "Extracting /root/.pytorch/MNIST_data/MNIST/raw/t10k-images-idx3-ubyte.gz\n",
            "Downloading http://yann.lecun.com/exdb/mnist/t10k-labels-idx1-ubyte.gz to /root/.pytorch/MNIST_data/MNIST/raw/t10k-labels-idx1-ubyte.gz\n"
          ],
          "name": "stdout"
        },
        {
          "output_type": "stream",
          "text": [
            "8192it [00:00, 21528.47it/s]            "
          ],
          "name": "stderr"
        },
        {
          "output_type": "stream",
          "text": [
            "Extracting /root/.pytorch/MNIST_data/MNIST/raw/t10k-labels-idx1-ubyte.gz\n",
            "Processing...\n",
            "Done!\n"
          ],
          "name": "stdout"
        },
        {
          "output_type": "stream",
          "text": [
            "\n"
          ],
          "name": "stderr"
        }
      ]
    },
    {
      "cell_type": "code",
      "metadata": {
        "id": "ne5bsDsDpF6Z",
        "colab_type": "code",
        "outputId": "cc9094b2-a31c-4007-aa2c-727412e4fdbc",
        "colab": {
          "base_uri": "https://localhost:8080/",
          "height": 121
        }
      },
      "source": [
        "print (trainSet.train_data.shape)\n",
        "print (validSet.test_data.shape)"
      ],
      "execution_count": 0,
      "outputs": [
        {
          "output_type": "stream",
          "text": [
            "torch.Size([60000, 28, 28])\n",
            "torch.Size([10000, 28, 28])\n"
          ],
          "name": "stdout"
        },
        {
          "output_type": "stream",
          "text": [
            "/usr/local/lib/python3.6/dist-packages/torchvision/datasets/mnist.py:53: UserWarning: train_data has been renamed data\n",
            "  warnings.warn(\"train_data has been renamed data\")\n",
            "/usr/local/lib/python3.6/dist-packages/torchvision/datasets/mnist.py:58: UserWarning: test_data has been renamed data\n",
            "  warnings.warn(\"test_data has been renamed data\")\n"
          ],
          "name": "stderr"
        }
      ]
    },
    {
      "cell_type": "markdown",
      "metadata": {
        "id": "ld10sIe7puim",
        "colab_type": "text"
      },
      "source": [
        "# Print training images and their labels"
      ]
    },
    {
      "cell_type": "code",
      "metadata": {
        "id": "L4r6B_sDpsEp",
        "colab_type": "code",
        "colab": {}
      },
      "source": [
        "def plotImages (X, labels):\n",
        "  #Plot the first 5 images and their labels\n",
        "  for i, (img, y) in enumerate(zip(X, labels)):\n",
        "        plt.subplot(151 + i)\n",
        "        plt.imshow(img)\n",
        "        plt.xticks([])\n",
        "        plt.yticks([])\n",
        "        plt.title(y)"
      ],
      "execution_count": 0,
      "outputs": []
    },
    {
      "cell_type": "code",
      "metadata": {
        "id": "LWwifIoprAwa",
        "colab_type": "code",
        "outputId": "463f00c0-907b-470e-ad84-3952c89719f0",
        "colab": {
          "base_uri": "https://localhost:8080/",
          "height": 177
        }
      },
      "source": [
        "plotImages (trainSet.train_data[:5], trainSet.train_labels[:5].numpy())"
      ],
      "execution_count": 0,
      "outputs": [
        {
          "output_type": "stream",
          "text": [
            "/usr/local/lib/python3.6/dist-packages/torchvision/datasets/mnist.py:53: UserWarning: train_data has been renamed data\n",
            "  warnings.warn(\"train_data has been renamed data\")\n",
            "/usr/local/lib/python3.6/dist-packages/torchvision/datasets/mnist.py:43: UserWarning: train_labels has been renamed targets\n",
            "  warnings.warn(\"train_labels has been renamed targets\")\n"
          ],
          "name": "stderr"
        },
        {
          "output_type": "display_data",
          "data": {
            "image/png": "[encoded data removed]",
            "text/plain": [
              "<Figure size 432x288 with 5 Axes>"
            ]
          },
          "metadata": {
            "tags": []
          }
        }
      ]
    },
    {
      "cell_type": "code",
      "metadata": {
        "id": "43i2q93I0Go4",
        "colab_type": "code",
        "colab": {}
      },
      "source": [
        "trainLoader = DataLoader(trainSet, batch_size=256, num_workers=0, shuffle=True)\n",
        "validLoader = DataLoader(validSet, batch_size=512, num_workers=0, shuffle=False)"
      ],
      "execution_count": 0,
      "outputs": []
    },
    {
      "cell_type": "markdown",
      "metadata": {
        "id": "kCJfz9u3Aqhh",
        "colab_type": "text"
      },
      "source": [
        "# Utilites"
      ]
    },
    {
      "cell_type": "code",
      "metadata": {
        "id": "c1n7Cp5DAu7X",
        "colab_type": "code",
        "colab": {}
      },
      "source": [
        "class AverageBase(object):\n",
        "    \n",
        "    def __init__(self, value=0):\n",
        "        self.value = float(value) if value is not None else None\n",
        "       \n",
        "    def __str__(self):\n",
        "        return str(round(self.value, 4))\n",
        "    \n",
        "    def __repr__(self):\n",
        "        return self.value\n",
        "    \n",
        "    def __format__(self, fmt):\n",
        "        return self.value.__format__(fmt)\n",
        "    \n",
        "    def __float__(self):\n",
        "        return self.value\n",
        "    \n",
        "\n",
        "class RunningAverage(AverageBase):\n",
        "    \"\"\"\n",
        "    Keeps track of a cumulative moving average (CMA).\n",
        "    \"\"\"\n",
        "    \n",
        "    def __init__(self, value=0, count=0):\n",
        "        super(RunningAverage, self).__init__(value)\n",
        "        self.count = count\n",
        "        \n",
        "    def update(self, value):\n",
        "        self.value = (self.value * self.count + float(value))\n",
        "        self.count += 1\n",
        "        self.value /= self.count\n",
        "        return self.value\n",
        "\n",
        "\n",
        "class MovingAverage(AverageBase):\n",
        "    \"\"\"\n",
        "    An exponentially decaying moving average (EMA).\n",
        "    \"\"\"\n",
        "    \n",
        "    def __init__(self, alpha=0.99):\n",
        "        super(MovingAverage, self).__init__(None)\n",
        "        self.alpha = alpha\n",
        "        \n",
        "    def update(self, value):\n",
        "        if self.value is None:\n",
        "            self.value = float(value)\n",
        "        else:\n",
        "            self.value = self.alpha * self.value + (1 - self.alpha) * float(value)\n",
        "        return self.value"
      ],
      "execution_count": 0,
      "outputs": []
    },
    {
      "cell_type": "markdown",
      "metadata": {
        "id": "9XZ1t6EW_6CB",
        "colab_type": "text"
      },
      "source": [
        "# Progress monitor"
      ]
    },
    {
      "cell_type": "code",
      "metadata": {
        "id": "AYVyTvXN__3m",
        "colab_type": "code",
        "colab": {}
      },
      "source": [
        "from IPython.display import HTML, display\n",
        "\n",
        "class ProgressMonitor(object):\n",
        "    \"\"\"\n",
        "    Custom IPython progress bar for training\n",
        "    \"\"\"\n",
        "    \n",
        "    tmpl = \"\"\"\n",
        "        <p>Loss: {loss:0.4f}   {value} / {length}</p>\n",
        "        <progress value='{value}' max='{length}', style='width: 100%'>{value}</progress>\n",
        "    \"\"\"\n",
        "\n",
        "    def __init__(self, length):\n",
        "        self.length = length\n",
        "        self.count = 0\n",
        "        self.display = display(self.html(0, 0), display_id=True)\n",
        "        \n",
        "    def html(self, count, loss):\n",
        "        return HTML(self.tmpl.format(length=self.length, value=count, loss=loss))\n",
        "        \n",
        "    def update(self, count, loss):\n",
        "        self.count += count\n",
        "        self.display.update(self.html(self.count, loss))"
      ],
      "execution_count": 0,
      "outputs": []
    },
    {
      "cell_type": "markdown",
      "metadata": {
        "id": "KeG-1hyUwla8",
        "colab_type": "text"
      },
      "source": [
        "#Lenet architecture"
      ]
    },
    {
      "cell_type": "code",
      "metadata": {
        "id": "38fG8t-bwqOQ",
        "colab_type": "code",
        "colab": {}
      },
      "source": [
        "class LeNet(torch.nn.Module):\n",
        "     \n",
        "  def __init__(self):   \n",
        "        super(LeNet, self).__init__()\n",
        "        # Convolution (In LeNet, 32x32 images are given as input. Hence padding of 2 is done below)\n",
        "        self.conv1 = torch.nn.Conv2d(in_channels=1, out_channels=6, kernel_size=5, stride=1, padding=2, bias=True)\n",
        "        # Max-pooling\n",
        "        self.max_pool_1 = torch.nn.MaxPool2d(kernel_size=2)\n",
        "        # Convolution\n",
        "        self.conv2 = torch.nn.Conv2d(in_channels=6, out_channels=16, kernel_size=5, stride=1, padding=0, bias=True)\n",
        "        # Max-pooling\n",
        "        self.max_pool_2 = torch.nn.MaxPool2d(kernel_size=2)\n",
        "        # Fully connected layer\n",
        "        self.fc1 = torch.nn.Linear(16*5*5, 120)   # convert matrix with 16*5*5 (= 400) features to a matrix of 120 features (columns)\n",
        "        self.fc2 = torch.nn.Linear(120, 84)       # convert matrix with 120 features to a matrix of 84 features (columns)\n",
        "        self.fc3 = torch.nn.Linear(84, 10)        # convert matrix with 84 features to a matrix of 10 features (columns)\n",
        "        \n",
        "  def forward(self, out):\n",
        "        # convolve, then perform ReLU non-linearity\n",
        "        out = torch.nn.functional.relu(self.conv1(out))  \n",
        "        # max-pooling with 2x2 grid\n",
        "        out = self.max_pool_1(out)\n",
        "        # convolve, then perform ReLU non-linearity\n",
        "        out = torch.nn.functional.relu(self.conv2(out))\n",
        "        # max-pooling with 2x2 grid\n",
        "        out = self.max_pool_2(out)\n",
        "        # first flatten 'max_pool_2_out' to contain 16*5*5 columns\n",
        "        # read through https://stackoverflow.com/a/42482819/7551231\n",
        "        out = out.view(-1, 16*5*5)\n",
        "        # FC-1, then perform ReLU non-linearity\n",
        "        out = torch.nn.functional.relu(self.fc1(out))\n",
        "        # FC-2, then perform ReLU non-linearity\n",
        "        out = torch.nn.functional.relu(self.fc2(out))\n",
        "        # FC-3\n",
        "        out = self.fc3(out)\n",
        "        \n",
        "        return out"
      ],
      "execution_count": 0,
      "outputs": []
    },
    {
      "cell_type": "markdown",
      "metadata": {
        "id": "ew2ijhjq0fgI",
        "colab_type": "text"
      },
      "source": [
        "# Instantiate the model and move it to CUDA device"
      ]
    },
    {
      "cell_type": "code",
      "metadata": {
        "id": "U85NdUPX0nTi",
        "colab_type": "code",
        "outputId": "c2e152c3-5545-4eef-ca71-f9303e438620",
        "colab": {
          "base_uri": "https://localhost:8080/",
          "height": 173
        }
      },
      "source": [
        "model = LeNet ()\n",
        "model.to(device)"
      ],
      "execution_count": 0,
      "outputs": [
        {
          "output_type": "execute_result",
          "data": {
            "text/plain": [
              "LeNet(\n",
              "  (conv1): Conv2d(1, 6, kernel_size=(5, 5), stride=(1, 1), padding=(2, 2))\n",
              "  (max_pool_1): MaxPool2d(kernel_size=2, stride=2, padding=0, dilation=1, ceil_mode=False)\n",
              "  (conv2): Conv2d(6, 16, kernel_size=(5, 5), stride=(1, 1))\n",
              "  (max_pool_2): MaxPool2d(kernel_size=2, stride=2, padding=0, dilation=1, ceil_mode=False)\n",
              "  (fc1): Linear(in_features=400, out_features=120, bias=True)\n",
              "  (fc2): Linear(in_features=120, out_features=84, bias=True)\n",
              "  (fc3): Linear(in_features=84, out_features=10, bias=True)\n",
              ")"
            ]
          },
          "metadata": {
            "tags": []
          },
          "execution_count": 14
        }
      ]
    },
    {
      "cell_type": "markdown",
      "metadata": {
        "id": "7bEWM3YI02uB",
        "colab_type": "text"
      },
      "source": [
        "# Train the model"
      ]
    },
    {
      "cell_type": "code",
      "metadata": {
        "id": "ZnEga2kQ0zJw",
        "colab_type": "code",
        "colab": {}
      },
      "source": [
        "#criterion = nn.NLLLoss()\n",
        "optimizer = optim.Adam(model.parameters(), lr=0.003)\n"
      ],
      "execution_count": 0,
      "outputs": []
    },
    {
      "cell_type": "code",
      "metadata": {
        "id": "cmSPGf7h_mKz",
        "colab_type": "code",
        "colab": {}
      },
      "source": [
        "def train(optimizer, model, num_epochs=10, first_epoch=1):\n",
        "    \n",
        "    criterion = nn.CrossEntropyLoss()\n",
        "\n",
        "    train_losses = []\n",
        "    valid_losses = []\n",
        "\n",
        "    for epoch in range(first_epoch, first_epoch + num_epochs):\n",
        "        print('Epoch', epoch)\n",
        "\n",
        "        # train phase\n",
        "        model.train()\n",
        "\n",
        "        # create a progress bar\n",
        "        progress = ProgressMonitor(length=len(trainSet))\n",
        "\n",
        "        train_loss = MovingAverage()\n",
        "\n",
        "        for batch, targets in trainLoader:\n",
        "            # Move the training data to the GPU\n",
        "            batch = batch.to(device)\n",
        "            targets = targets.to(device)\n",
        "\n",
        "            # clear previous gradient computation\n",
        "            optimizer.zero_grad()\n",
        "\n",
        "            # forward propagation\n",
        "            predictions = model(batch)\n",
        "\n",
        "            # calculate the loss\n",
        "            loss = criterion(predictions, targets)\n",
        "\n",
        "            # backpropagate to compute gradients\n",
        "            loss.backward()\n",
        "\n",
        "            # update model weights\n",
        "            optimizer.step()\n",
        "\n",
        "            # update average loss\n",
        "            train_loss.update(loss)\n",
        "\n",
        "            # update progress bar\n",
        "            progress.update(batch.shape[0], train_loss)\n",
        "\n",
        "        print('Training loss:', train_loss)\n",
        "        train_losses.append(train_loss.value)\n",
        "\n",
        "\n",
        "        # validation phase\n",
        "        model.eval()\n",
        "\n",
        "        valid_loss = RunningAverage()\n",
        "\n",
        "        # keep track of predictions\n",
        "        y_pred = []\n",
        "\n",
        "        # We don't need gradients for validation, so wrap in \n",
        "        # no_grad to save memory\n",
        "        with torch.no_grad():\n",
        "\n",
        "            for batch, targets in validLoader:\n",
        "\n",
        "                # Move the training batch to the GPU\n",
        "                batch = batch.to(device)\n",
        "                targets = targets.to(device)\n",
        "\n",
        "                # forward propagation\n",
        "                predictions = model(batch)\n",
        "\n",
        "                # calculate the loss\n",
        "                loss = criterion(predictions, targets)\n",
        "\n",
        "                # update running loss value\n",
        "                valid_loss.update(loss)\n",
        "\n",
        "                # save predictions\n",
        "                y_pred.extend(predictions.argmax(dim=1).cpu().numpy())\n",
        "\n",
        "        print('Validation loss:', valid_loss)\n",
        "        valid_losses.append(valid_loss.value)\n",
        "\n",
        "        # Calculate validation accuracy\n",
        "        y_pred = torch.tensor(y_pred, dtype=torch.int64)\n",
        "        accuracy = torch.mean((y_pred == validSet.test_labels).float())\n",
        "        print('Validation accuracy: {:.4f}%'.format(float(accuracy) * 100))\n",
        "\n",
        "        # Save a checkpoint\n",
        "        #checkpoint_filename = 'checkpoints/mnist-{:03d}.pkl'.format(epoch)\n",
        "        #save_checkpoint(optimizer, model, epoch, checkpoint_filename)\n",
        "        if epoch == 10:\n",
        "          torch.save(model, 'mnistTrain.pth')\n",
        "    \n",
        "    return train_losses, valid_losses, y_pred"
      ],
      "execution_count": 0,
      "outputs": []
    },
    {
      "cell_type": "code",
      "metadata": {
        "id": "NVWh7x-FBEH4",
        "colab_type": "code",
        "outputId": "73015e9c-0cfc-4a1c-a35b-1fd914091b46",
        "colab": {
          "base_uri": "https://localhost:8080/",
          "height": 1000
        }
      },
      "source": [
        "train_losses, valid_losses, y_pred = train(optimizer, model, num_epochs=10)"
      ],
      "execution_count": 0,
      "outputs": [
        {
          "output_type": "stream",
          "text": [
            "Epoch 1\n"
          ],
          "name": "stdout"
        },
        {
          "output_type": "display_data",
          "data": {
            "text/html": [
              "\n",
              "        <p>Loss: 0.3608   60000 / 60000</p>\n",
              "        <progress value='60000' max='60000', style='width: 100%'>60000</progress>\n",
              "    "
            ],
            "text/plain": [
              "<IPython.core.display.HTML object>"
            ]
          },
          "metadata": {
            "tags": []
          }
        },
        {
          "output_type": "stream",
          "text": [
            "Training loss: 0.3608\n",
            "Validation loss: 0.0596\n",
            "Validation accuracy: 98.1900%\n",
            "Epoch 2\n"
          ],
          "name": "stdout"
        },
        {
          "output_type": "stream",
          "text": [
            "/usr/local/lib/python3.6/dist-packages/torchvision/datasets/mnist.py:48: UserWarning: test_labels has been renamed targets\n",
            "  warnings.warn(\"test_labels has been renamed targets\")\n"
          ],
          "name": "stderr"
        },
        {
          "output_type": "display_data",
          "data": {
            "text/html": [
              "\n",
              "        <p>Loss: 0.0604   60000 / 60000</p>\n",
              "        <progress value='60000' max='60000', style='width: 100%'>60000</progress>\n",
              "    "
            ],
            "text/plain": [
              "<IPython.core.display.HTML object>"
            ]
          },
          "metadata": {
            "tags": []
          }
        },
        {
          "output_type": "stream",
          "text": [
            "Training loss: 0.0604\n",
            "Validation loss: 0.0502\n",
            "Validation accuracy: 98.3900%\n",
            "Epoch 3\n"
          ],
          "name": "stdout"
        },
        {
          "output_type": "display_data",
          "data": {
            "text/html": [
              "\n",
              "        <p>Loss: 0.0555   60000 / 60000</p>\n",
              "        <progress value='60000' max='60000', style='width: 100%'>60000</progress>\n",
              "    "
            ],
            "text/plain": [
              "<IPython.core.display.HTML object>"
            ]
          },
          "metadata": {
            "tags": []
          }
        },
        {
          "output_type": "stream",
          "text": [
            "Training loss: 0.0555\n",
            "Validation loss: 0.0478\n",
            "Validation accuracy: 98.4700%\n",
            "Epoch 4\n"
          ],
          "name": "stdout"
        },
        {
          "output_type": "display_data",
          "data": {
            "text/html": [
              "\n",
              "        <p>Loss: 0.0349   60000 / 60000</p>\n",
              "        <progress value='60000' max='60000', style='width: 100%'>60000</progress>\n",
              "    "
            ],
            "text/plain": [
              "<IPython.core.display.HTML object>"
            ]
          },
          "metadata": {
            "tags": []
          }
        },
        {
          "output_type": "stream",
          "text": [
            "Training loss: 0.0349\n",
            "Validation loss: 0.0422\n",
            "Validation accuracy: 98.6900%\n",
            "Epoch 5\n"
          ],
          "name": "stdout"
        },
        {
          "output_type": "display_data",
          "data": {
            "text/html": [
              "\n",
              "        <p>Loss: 0.0280   60000 / 60000</p>\n",
              "        <progress value='60000' max='60000', style='width: 100%'>60000</progress>\n",
              "    "
            ],
            "text/plain": [
              "<IPython.core.display.HTML object>"
            ]
          },
          "metadata": {
            "tags": []
          }
        },
        {
          "output_type": "stream",
          "text": [
            "Training loss: 0.028\n",
            "Validation loss: 0.033\n",
            "Validation accuracy: 98.8700%\n",
            "Epoch 6\n"
          ],
          "name": "stdout"
        },
        {
          "output_type": "display_data",
          "data": {
            "text/html": [
              "\n",
              "        <p>Loss: 0.0287   60000 / 60000</p>\n",
              "        <progress value='60000' max='60000', style='width: 100%'>60000</progress>\n",
              "    "
            ],
            "text/plain": [
              "<IPython.core.display.HTML object>"
            ]
          },
          "metadata": {
            "tags": []
          }
        },
        {
          "output_type": "stream",
          "text": [
            "Training loss: 0.0287\n",
            "Validation loss: 0.0442\n",
            "Validation accuracy: 98.5600%\n",
            "Epoch 7\n"
          ],
          "name": "stdout"
        },
        {
          "output_type": "display_data",
          "data": {
            "text/html": [
              "\n",
              "        <p>Loss: 0.0250   60000 / 60000</p>\n",
              "        <progress value='60000' max='60000', style='width: 100%'>60000</progress>\n",
              "    "
            ],
            "text/plain": [
              "<IPython.core.display.HTML object>"
            ]
          },
          "metadata": {
            "tags": []
          }
        },
        {
          "output_type": "stream",
          "text": [
            "Training loss: 0.025\n",
            "Validation loss: 0.0341\n",
            "Validation accuracy: 98.8400%\n",
            "Epoch 8\n"
          ],
          "name": "stdout"
        },
        {
          "output_type": "display_data",
          "data": {
            "text/html": [
              "\n",
              "        <p>Loss: 0.0229   60000 / 60000</p>\n",
              "        <progress value='60000' max='60000', style='width: 100%'>60000</progress>\n",
              "    "
            ],
            "text/plain": [
              "<IPython.core.display.HTML object>"
            ]
          },
          "metadata": {
            "tags": []
          }
        },
        {
          "output_type": "stream",
          "text": [
            "Training loss: 0.0229\n",
            "Validation loss: 0.034\n",
            "Validation accuracy: 99.0000%\n",
            "Epoch 9\n"
          ],
          "name": "stdout"
        },
        {
          "output_type": "display_data",
          "data": {
            "text/html": [
              "\n",
              "        <p>Loss: 0.0180   60000 / 60000</p>\n",
              "        <progress value='60000' max='60000', style='width: 100%'>60000</progress>\n",
              "    "
            ],
            "text/plain": [
              "<IPython.core.display.HTML object>"
            ]
          },
          "metadata": {
            "tags": []
          }
        },
        {
          "output_type": "stream",
          "text": [
            "Training loss: 0.018\n",
            "Validation loss: 0.0342\n",
            "Validation accuracy: 99.0100%\n",
            "Epoch 10\n"
          ],
          "name": "stdout"
        },
        {
          "output_type": "display_data",
          "data": {
            "text/html": [
              "\n",
              "        <p>Loss: 0.0181   60000 / 60000</p>\n",
              "        <progress value='60000' max='60000', style='width: 100%'>60000</progress>\n",
              "    "
            ],
            "text/plain": [
              "<IPython.core.display.HTML object>"
            ]
          },
          "metadata": {
            "tags": []
          }
        },
        {
          "output_type": "stream",
          "text": [
            "Training loss: 0.0181\n",
            "Validation loss: 0.0372\n",
            "Validation accuracy: 98.9000%\n"
          ],
          "name": "stdout"
        },
        {
          "output_type": "stream",
          "text": [
            "/usr/local/lib/python3.6/dist-packages/torch/serialization.py:256: UserWarning: Couldn't retrieve source code for container of type LeNet. It won't be checked for correctness upon loading.\n",
            "  \"type \" + obj.__name__ + \". It won't be checked \"\n"
          ],
          "name": "stderr"
        }
      ]
    },
    {
      "cell_type": "markdown",
      "metadata": {
        "id": "yWzywfPULHz8",
        "colab_type": "text"
      },
      "source": [
        "#Test on a random Image "
      ]
    },
    {
      "cell_type": "code",
      "metadata": {
        "id": "F9JUs2suUfXV",
        "colab_type": "code",
        "outputId": "9235dbbc-57bd-40da-e227-b534b48026df",
        "colab": {
          "base_uri": "https://localhost:8080/",
          "height": 173
        }
      },
      "source": [
        "device = 'cuda'\n",
        "model=torch.load('mnistTrain.pth')\n",
        "model.eval()"
      ],
      "execution_count": 0,
      "outputs": [
        {
          "output_type": "execute_result",
          "data": {
            "text/plain": [
              "LeNet(\n",
              "  (conv1): Conv2d(1, 6, kernel_size=(5, 5), stride=(1, 1), padding=(2, 2))\n",
              "  (max_pool_1): MaxPool2d(kernel_size=2, stride=2, padding=0, dilation=1, ceil_mode=False)\n",
              "  (conv2): Conv2d(6, 16, kernel_size=(5, 5), stride=(1, 1))\n",
              "  (max_pool_2): MaxPool2d(kernel_size=2, stride=2, padding=0, dilation=1, ceil_mode=False)\n",
              "  (fc1): Linear(in_features=400, out_features=120, bias=True)\n",
              "  (fc2): Linear(in_features=120, out_features=84, bias=True)\n",
              "  (fc3): Linear(in_features=84, out_features=10, bias=True)\n",
              ")"
            ]
          },
          "metadata": {
            "tags": []
          },
          "execution_count": 18
        }
      ]
    },
    {
      "cell_type": "code",
      "metadata": {
        "id": "2myPW47W3Mmt",
        "colab_type": "code",
        "outputId": "ebb9907e-2f00-44d9-b6d2-a28142e3b534",
        "colab": {
          "base_uri": "https://localhost:8080/",
          "height": 124
        }
      },
      "source": [
        "from google.colab import drive\n",
        "drive.mount('/content/drive/')\n",
        "!cd \"/content/drive/My Drive/AiScholarship/Images\""
      ],
      "execution_count": 0,
      "outputs": [
        {
          "output_type": "stream",
          "text": [
            "Go to this URL in a browser: https://accounts.google.com/o/oauth2/auth?client_id=947318989803-6bn6qk8qdgf4n4g3pfee6491hc0brc4i.apps.googleusercontent.com&redirect_uri=urn%3Aietf%3Awg%3Aoauth%3A2.0%3Aoob&scope=email%20https%3A%2F%2Fwww.googleapis.com%2Fauth%2Fdocs.test%20https%3A%2F%2Fwww.googleapis.com%2Fauth%2Fdrive%20https%3A%2F%2Fwww.googleapis.com%2Fauth%2Fdrive.photos.readonly%20https%3A%2F%2Fwww.googleapis.com%2Fauth%2Fpeopleapi.readonly&response_type=code\n",
            "\n",
            "Enter your authorization code:\n",
            "··········\n",
            "Mounted at /content/drive/\n"
          ],
          "name": "stdout"
        }
      ]
    },
    {
      "cell_type": "code",
      "metadata": {
        "id": "gcImC_MSVR58",
        "colab_type": "code",
        "outputId": "28a68983-4fa5-4395-b7a3-8ab9074d6bfd",
        "colab": {
          "base_uri": "https://localhost:8080/",
          "height": 425
        }
      },
      "source": [
        "import cv2\n",
        "%matplotlib inline\n",
        "img = cv2.imread('/content/drive/My Drive/AiScholarship/Images/image3.png',0)\n",
        "loadedImg = cv2.resize(img,(28,28),1)\n",
        "_,loadedImg = cv2.threshold(loadedImg,0,255,cv2.THRESH_BINARY + cv2.THRESH_OTSU)\n",
        "loadedImg = torch.tensor(loadedImg)\n",
        "\n",
        "loadedImg1 = validLoader.dataset.data[2512] # Change value in the box to test on different images\n",
        "print(loadedImg1.dtype)\n",
        "plt.imshow(loadedImg)\n",
        "#loadedImg = transforms.Compose([transforms.ToTensor(),ransforms.Normalize((0.5,), (0.5, )),           ])\n",
        "print(loadedImg.dtype)\n",
        "\n",
        "\n",
        "loadedImg = loadedImg.to(device)\n",
        "loadedImg = loadedImg[None, None]\n",
        "loadedImg = loadedImg.type('torch.cuda.FloatTensor') # instead of DoubleTensor\n",
        "\n",
        "out_predict = model(loadedImg)\n",
        "print (out_predict)\n",
        "pred = out_predict.max(1, keepdim=True)[1]\n",
        "print (pred)\n",
        "print ('\\n')\n",
        "print(\"\\t Predicted Label:\", pred.item())"
      ],
      "execution_count": 0,
      "outputs": [
        {
          "output_type": "stream",
          "text": [
            "torch.uint8\n",
            "torch.uint8\n",
            "tensor([[-425.5608, -464.5355,  160.4449, -140.3306, -219.9935, -203.9838,\n",
            "         -603.3604,   50.8027,  371.7798,  105.3948]], device='cuda:0',\n",
            "       grad_fn=<AddmmBackward>)\n",
            "tensor([[8]], device='cuda:0')\n",
            "\n",
            "\n",
            "\t Predicted Label: 8\n"
          ],
          "name": "stdout"
        },
        {
          "output_type": "display_data",
          "data": {
            "image/png": "[encoded data removed]",
            "text/plain": [
              "<Figure size 432x288 with 1 Axes>"
            ]
          },
          "metadata": {
            "tags": []
          }
        }
      ]
    }
  ]
}