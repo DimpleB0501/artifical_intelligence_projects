{
  "nbformat": 4,
  "nbformat_minor": 0,
  "metadata": {
    "colab": {
      "name": "fashionMnist.ipynb",
      "version": "0.3.2",
      "provenance": [],
      "collapsed_sections": [],
      "include_colab_link": true
    },
    "kernelspec": {
      "name": "python3",
      "display_name": "Python 3"
    }
  },
  "cells": [
    {
      "cell_type": "markdown",
      "metadata": {
        "id": "view-in-github",
        "colab_type": "text"
      },
      "source": [
        "<a href=\"https://colab.research.google.com/github/DimpleB0501/SecureNPrivateAIScholarshipCodes/blob/master/DeepLearningwithPyTorch/fashionMnist.ipynb\" target=\"_parent\"><img src=\"https://colab.research.google.com/assets/colab-badge.svg\" alt=\"Open In Colab\"/></a>"
      ]
    },
    {
      "cell_type": "markdown",
      "metadata": {
        "id": "COm2bgKfRDqX",
        "colab_type": "text"
      },
      "source": [
        "# Import packages"
      ]
    },
    {
      "cell_type": "code",
      "metadata": {
        "id": "61WTekhCRGvL",
        "colab_type": "code",
        "colab": {}
      },
      "source": [
        "import numpy as np\n",
        "import matplotlib.pyplot as plt\n",
        "\n",
        "import torch\n",
        "import torch.nn.functional as F\n",
        "import torchvision.transforms as transforms\n",
        "\n",
        "from torchvision.datasets import FashionMNIST\n",
        "from torch.utils.data import DataLoader\n",
        "from torch import optim\n",
        "from torch import nn"
      ],
      "execution_count": 0,
      "outputs": []
    },
    {
      "cell_type": "code",
      "metadata": {
        "id": "3O5bBJmgRJMW",
        "colab_type": "code",
        "outputId": "b4b19e06-13ec-4512-f75d-89dbe68daa0b",
        "colab": {
          "base_uri": "https://localhost:8080/",
          "height": 34
        }
      },
      "source": [
        "print (\"Pytorch version:\", torch.__version__)"
      ],
      "execution_count": 0,
      "outputs": [
        {
          "output_type": "stream",
          "text": [
            "Pytorch version: 1.1.0\n"
          ],
          "name": "stdout"
        }
      ]
    },
    {
      "cell_type": "markdown",
      "metadata": {
        "id": "6P0QC_lbRuky",
        "colab_type": "text"
      },
      "source": [
        "# GPU mode initialize "
      ]
    },
    {
      "cell_type": "code",
      "metadata": {
        "id": "Kr9NbRw6R2Pi",
        "colab_type": "code",
        "outputId": "2714ebeb-0a92-45ff-f9f1-735eea23c0ca",
        "colab": {
          "base_uri": "https://localhost:8080/",
          "height": 34
        }
      },
      "source": [
        "# Check if GPU available\n",
        "if torch.cuda.is_available():\n",
        "  print (\"On GPU\")\n",
        "else :\n",
        "  print (\"On CPU\")"
      ],
      "execution_count": 0,
      "outputs": [
        {
          "output_type": "stream",
          "text": [
            "On GPU\n"
          ],
          "name": "stdout"
        }
      ]
    },
    {
      "cell_type": "code",
      "metadata": {
        "id": "yw72rsHwR6Xq",
        "colab_type": "code",
        "colab": {}
      },
      "source": [
        "device = 'cuda' if torch.cuda.is_available() else 'cpu'"
      ],
      "execution_count": 0,
      "outputs": []
    },
    {
      "cell_type": "markdown",
      "metadata": {
        "id": "Wg1ottWkSD_9",
        "colab_type": "text"
      },
      "source": [
        "# Loading Fashion MNIST dataset"
      ]
    },
    {
      "cell_type": "code",
      "metadata": {
        "id": "a7ZV6PF7SIjg",
        "colab_type": "code",
        "outputId": "0b8b899c-656b-4db2-9bd1-07c650a759e3",
        "colab": {
          "base_uri": "https://localhost:8080/",
          "height": 280
        }
      },
      "source": [
        "\n",
        "# Define a transform to normalize the data\n",
        "trainTransform = transforms.Compose([transforms.ToTensor(),\n",
        "                                transforms.Normalize((0.5,), (0.5,))])\n",
        "\n",
        "# Use the same transform for the validation data\n",
        "validTransform = trainTransform\n",
        "\n",
        "# Download the training and test data\n",
        "trainSet = FashionMNIST('~/.pytorch/F_MNIST_data/', download=True, train=True, transform=trainTransform)\n",
        "validSet = FashionMNIST('~/.pytorch/F_MNIST_data/', download=True, train=False, transform=validTransform)\n",
        "\n",
        "# Load the training and test data\n",
        "trainLoader = DataLoader(trainSet, batch_size=256, num_workers=0, shuffle=True)\n",
        "validLoader = DataLoader(validSet, batch_size=512, num_workers=0, shuffle=False)\n"
      ],
      "execution_count": 0,
      "outputs": [
        {
          "output_type": "stream",
          "text": [
            "\r0it [00:00, ?it/s]"
          ],
          "name": "stderr"
        },
        {
          "output_type": "stream",
          "text": [
            "Downloading http://fashion-mnist.s3-website.eu-central-1.amazonaws.com/train-images-idx3-ubyte.gz to /root/.pytorch/F_MNIST_data/FashionMNIST/raw/train-images-idx3-ubyte.gz\n"
          ],
          "name": "stdout"
        },
        {
          "output_type": "stream",
          "text": [
            "26427392it [00:00, 78391633.83it/s]                              \n"
          ],
          "name": "stderr"
        },
        {
          "output_type": "stream",
          "text": [
            "Extracting /root/.pytorch/F_MNIST_data/FashionMNIST/raw/train-images-idx3-ubyte.gz\n"
          ],
          "name": "stdout"
        },
        {
          "output_type": "stream",
          "text": [
            "32768it [00:00, 495362.98it/s]\n",
            "  2%|▏         | 98304/4422102 [00:00<00:04, 905194.19it/s]"
          ],
          "name": "stderr"
        },
        {
          "output_type": "stream",
          "text": [
            "Downloading http://fashion-mnist.s3-website.eu-central-1.amazonaws.com/train-labels-idx1-ubyte.gz to /root/.pytorch/F_MNIST_data/FashionMNIST/raw/train-labels-idx1-ubyte.gz\n",
            "Extracting /root/.pytorch/F_MNIST_data/FashionMNIST/raw/train-labels-idx1-ubyte.gz\n",
            "Downloading http://fashion-mnist.s3-website.eu-central-1.amazonaws.com/t10k-images-idx3-ubyte.gz to /root/.pytorch/F_MNIST_data/FashionMNIST/raw/t10k-images-idx3-ubyte.gz\n"
          ],
          "name": "stdout"
        },
        {
          "output_type": "stream",
          "text": [
            "4423680it [00:00, 22309238.14it/s]                         \n",
            "8192it [00:00, 136467.31it/s]\n"
          ],
          "name": "stderr"
        },
        {
          "output_type": "stream",
          "text": [
            "Extracting /root/.pytorch/F_MNIST_data/FashionMNIST/raw/t10k-images-idx3-ubyte.gz\n",
            "Downloading http://fashion-mnist.s3-website.eu-central-1.amazonaws.com/t10k-labels-idx1-ubyte.gz to /root/.pytorch/F_MNIST_data/FashionMNIST/raw/t10k-labels-idx1-ubyte.gz\n",
            "Extracting /root/.pytorch/F_MNIST_data/FashionMNIST/raw/t10k-labels-idx1-ubyte.gz\n",
            "Processing...\n",
            "Done!\n"
          ],
          "name": "stdout"
        }
      ]
    },
    {
      "cell_type": "code",
      "metadata": {
        "id": "uutzBNU_TINp",
        "colab_type": "code",
        "outputId": "ec4e1a0d-abf8-46e5-c8c4-a364db09dbc4",
        "colab": {
          "base_uri": "https://localhost:8080/",
          "height": 121
        }
      },
      "source": [
        "print (trainSet.train_data.shape)\n",
        "print (validSet.test_data.shape)"
      ],
      "execution_count": 0,
      "outputs": [
        {
          "output_type": "stream",
          "text": [
            "torch.Size([60000, 28, 28])\n",
            "torch.Size([10000, 28, 28])\n"
          ],
          "name": "stdout"
        },
        {
          "output_type": "stream",
          "text": [
            "/usr/local/lib/python3.6/dist-packages/torchvision/datasets/mnist.py:53: UserWarning: train_data has been renamed data\n",
            "  warnings.warn(\"train_data has been renamed data\")\n",
            "/usr/local/lib/python3.6/dist-packages/torchvision/datasets/mnist.py:58: UserWarning: test_data has been renamed data\n",
            "  warnings.warn(\"test_data has been renamed data\")\n"
          ],
          "name": "stderr"
        }
      ]
    },
    {
      "cell_type": "markdown",
      "metadata": {
        "id": "GhcGDbDSTUfi",
        "colab_type": "text"
      },
      "source": [
        "# Printing first 5 FashionMNIST dataset images and their labels"
      ]
    },
    {
      "cell_type": "code",
      "metadata": {
        "id": "T1IMThZ1Ysqs",
        "colab_type": "code",
        "colab": {}
      },
      "source": [
        "#Creating a label dictionary\n",
        "labelDict = {0: 'T-shirt/top', 1: 'Trouser', 2: 'Pullover', 3: 'Dress', 4: 'Coat', 5: 'Sandal',6: 'Shirt', 7: 'Sneaker', 8: 'Bag', 9: 'Ankle boot' } "
      ],
      "execution_count": 0,
      "outputs": []
    },
    {
      "cell_type": "code",
      "metadata": {
        "id": "Ww4hFZyXTlPu",
        "colab_type": "code",
        "colab": {}
      },
      "source": [
        "def plotImages (X, labels):\n",
        "  #Plot the first 5 images and their labels\n",
        "  for i, (img, y) in enumerate(zip(X, labels)):  \n",
        "        plt.subplot(151 + i)\n",
        "        plt.imshow(img)\n",
        "        plt.xticks([])\n",
        "        plt.yticks([])\n",
        "        plt.title(labelDict[y])"
      ],
      "execution_count": 0,
      "outputs": []
    },
    {
      "cell_type": "code",
      "metadata": {
        "id": "Zq3DWAluToRn",
        "colab_type": "code",
        "outputId": "1600ece7-36c5-4a6b-c377-bdf3e1da14f9",
        "colab": {
          "base_uri": "https://localhost:8080/",
          "height": 177
        }
      },
      "source": [
        "\n",
        "plotImages (trainSet.train_data[0:5], trainSet.train_labels[0:5].numpy())"
      ],
      "execution_count": 0,
      "outputs": [
        {
          "output_type": "stream",
          "text": [
            "/usr/local/lib/python3.6/dist-packages/torchvision/datasets/mnist.py:53: UserWarning: train_data has been renamed data\n",
            "  warnings.warn(\"train_data has been renamed data\")\n",
            "/usr/local/lib/python3.6/dist-packages/torchvision/datasets/mnist.py:43: UserWarning: train_labels has been renamed targets\n",
            "  warnings.warn(\"train_labels has been renamed targets\")\n"
          ],
          "name": "stderr"
        },
        {
          "output_type": "display_data",
          "data": {
            "image/png": "[encoded data removed]",
            "text/plain": [
              "<Figure size 432x288 with 5 Axes>"
            ]
          },
          "metadata": {
            "tags": []
          }
        }
      ]
    },
    {
      "cell_type": "markdown",
      "metadata": {
        "id": "MIfLNvU3x76Z",
        "colab_type": "text"
      },
      "source": [
        "# Progress monitor"
      ]
    },
    {
      "cell_type": "code",
      "metadata": {
        "id": "7ixroYgtx_DT",
        "colab_type": "code",
        "colab": {}
      },
      "source": [
        "from IPython.display import HTML, display\n",
        "\n",
        "class ProgressMonitor(object):\n",
        "    \"\"\"\n",
        "    Custom IPython progress bar for training\n",
        "    \"\"\"\n",
        "    \n",
        "    tmpl = \"\"\"\n",
        "        <p>Loss: {loss:0.4f}   {value} / {length}</p>\n",
        "        <progress value='{value}' max='{length}', style='width: 100%'>{value}</progress>\n",
        "    \"\"\"\n",
        "\n",
        "    def __init__(self, length):\n",
        "        self.length = length\n",
        "        self.count = 0\n",
        "        self.display = display(self.html(0, 0), display_id=True)\n",
        "        \n",
        "    def html(self, count, loss):\n",
        "        return HTML(self.tmpl.format(length=self.length, value=count, loss=loss))\n",
        "        \n",
        "    def update(self, count, loss):\n",
        "        self.count += count\n",
        "        self.display.update(self.html(self.count, loss))\n"
      ],
      "execution_count": 0,
      "outputs": []
    },
    {
      "cell_type": "markdown",
      "metadata": {
        "id": "60Ej6DsfmiPU",
        "colab_type": "text"
      },
      "source": [
        "# Save model"
      ]
    },
    {
      "cell_type": "code",
      "metadata": {
        "id": "SB-9GgEZmkhT",
        "colab_type": "code",
        "colab": {}
      },
      "source": [
        "def saveCheckpoint(model, epoch, filename):\n",
        "    checkpoint_dict = {        \n",
        "        'model': model.state_dict(),\n",
        "        'epoch': epoch\n",
        "    }\n",
        "    torch.save(checkpoint_dict, filename)"
      ],
      "execution_count": 0,
      "outputs": []
    },
    {
      "cell_type": "markdown",
      "metadata": {
        "id": "zIIXeMzeJ1kN",
        "colab_type": "text"
      },
      "source": [
        "# Load model"
      ]
    },
    {
      "cell_type": "code",
      "metadata": {
        "id": "OMUSHWUKJ38E",
        "colab_type": "code",
        "colab": {}
      },
      "source": [
        "def loadCheckpoint(filename):        \n",
        "    checkpoint_dict = torch.load(filename)\n",
        "    epoch = checkpoint_dict['epoch']\n",
        "    stateDict = model.load_state_dict(checkpoint_dict['model'])    \n",
        "    return epoch"
      ],
      "execution_count": 0,
      "outputs": []
    },
    {
      "cell_type": "markdown",
      "metadata": {
        "id": "yiWvFdAHh-09",
        "colab_type": "text"
      },
      "source": [
        "# Implementing Lenet"
      ]
    },
    {
      "cell_type": "code",
      "metadata": {
        "id": "rzjWW0XbiK9l",
        "colab_type": "code",
        "colab": {}
      },
      "source": [
        "class Lenet5(nn.Module):\n",
        "  def __init__(self):\n",
        "    super().__init__()\n",
        "    self.conv1 = nn.Conv2d(in_channels=1, out_channels=6, kernel_size=5, stride=1, padding=2, bias=True)\n",
        "    self.pool1 = nn.MaxPool2d(kernel_size=2)\n",
        "    self.conv2 = nn.Conv2d(in_channels=6, out_channels=16, kernel_size=5, stride=1, padding=0, bias=True)\n",
        "    self.pool2 = nn.MaxPool2d(kernel_size=2)\n",
        "    self.conv3 = nn.Conv2d(in_channels=16, out_channels=120, kernel_size=5, stride=1, padding=0, bias=True)\n",
        "    self.fc1   = nn.Linear(120,84)\n",
        "    self.fc2   = nn.Linear(84,10)\n",
        "    # Dropout module with 0.2 drop probability\n",
        "    self.dropout = nn.Dropout(p=0.2)\n",
        "  \n",
        "  def forward(self,x):\n",
        "    x = F.relu(self.conv1(x))\n",
        "    x = self.pool1(x)\n",
        "    x = self.dropout(F.relu(self.conv2(x)))\n",
        "    x = self.pool2(x)\n",
        "    x = F.relu(self.conv3(x))\n",
        "    x = x.view(-1, 120)\n",
        "    x = F.relu(self.fc1(x))\n",
        "    x = F.log_softmax(self.fc2(x), dim = 1)\n",
        "    \n",
        "    return x\n",
        "    "
      ],
      "execution_count": 0,
      "outputs": []
    },
    {
      "cell_type": "code",
      "metadata": {
        "id": "HaR7lBRnm43B",
        "colab_type": "code",
        "colab": {}
      },
      "source": [
        "model = Lenet5()\n",
        "model.to(device)\n",
        "#model\n",
        "#criterion = nn.NLLLoss() # Accuracy on this model was 90.428 at 15 epochs\n",
        "criterion = nn.CrossEntropyLoss() #15 epochs 90.400%\n",
        "optimizer = optim.Adam(model.parameters(), lr=0.003)"
      ],
      "execution_count": 0,
      "outputs": []
    },
    {
      "cell_type": "markdown",
      "metadata": {
        "id": "VqqmWBGbquCt",
        "colab_type": "text"
      },
      "source": [
        "# Create a directory called checkpoints\n"
      ]
    },
    {
      "cell_type": "code",
      "metadata": {
        "id": "iJVEmOS4-L4M",
        "colab_type": "code",
        "outputId": "7f064269-dc34-429a-ca5e-28c74995aabb",
        "colab": {
          "base_uri": "https://localhost:8080/",
          "height": 34
        }
      },
      "source": [
        "!rm -rf checkpoints\n",
        "!mkdir -p checkpoints\n",
        "!ls"
      ],
      "execution_count": 0,
      "outputs": [
        {
          "output_type": "stream",
          "text": [
            "checkpoints  sample_data\n"
          ],
          "name": "stdout"
        }
      ]
    },
    {
      "cell_type": "code",
      "metadata": {
        "id": "UqO_4z4DL4O_",
        "colab_type": "code",
        "colab": {}
      },
      "source": [
        "def train(optimizer, model, num_epochs=10, first_epoch=1):      \n",
        "  trainLosses = []\n",
        "  validLosses = []\n",
        "  for epoch in range(first_epoch, first_epoch + num_epochs):\n",
        "    print(\"Epoch: {}/{}.. \".format(epoch, num_epochs))\n",
        "    # train phase\n",
        "    model.train()\n",
        "\n",
        "    # create a progress bar\n",
        "    progress = ProgressMonitor(length=len(trainSet))     \n",
        "\n",
        "    runningLoss = 0\n",
        "    for images, labels in trainLoader:\n",
        "      # Move the training data to the GPU\n",
        "      images = images.to(device)\n",
        "      labels = labels.to(device)\n",
        "\n",
        "      # clear previous gradient computation\n",
        "      optimizer.zero_grad()\n",
        "\n",
        "      # forward propagation\n",
        "      predictions = model(images)\n",
        "\n",
        "      # calculate the loss\n",
        "      loss = criterion(predictions, labels)\n",
        "\n",
        "      # backpropagate to compute gradients\n",
        "      loss.backward()\n",
        "\n",
        "      # update model weights\n",
        "      optimizer.step()\n",
        "      \n",
        "      runningLoss += loss.item()      \n",
        "          \n",
        "      # update progress bar\n",
        "      progress.update(images.shape[0], (runningLoss/len(trainLoader)))\n",
        "    \n",
        "    trainLosses.append(runningLoss/len(trainLoader))\n",
        "    #print (\"Training Loss: (:.3f)..\".format(runningLoss/len(trainLoader)))\n",
        " \n",
        "    model.eval()    \n",
        "    validLoss = 0\n",
        "    accuracy = 0\n",
        "    #Turn off the gradients for validation, saves memory and computation\n",
        "    with torch.no_grad():\n",
        "      \n",
        "      for images, labels in validLoader:\n",
        "        # Move the training batch to the GPU\n",
        "        images = images.to(device)\n",
        "        labels = labels.to(device)\n",
        "        \n",
        "        # forward propagation\n",
        "        predictions = model(images)\n",
        "        \n",
        "        # calculate the loss\n",
        "        Loss = criterion(predictions, labels)\n",
        "        validLoss += Loss.item()\n",
        "        \n",
        "        # accuracy\n",
        "        ps = torch.exp(predictions)\n",
        "        top_p, top_class = ps.topk(1, dim =1)\n",
        "        equals = top_class == labels.view(*top_class.shape)\n",
        "        accuracy += torch.mean(equals.type(torch.FloatTensor))\n",
        "    \n",
        "    validLosses.append(validLoss/len(validLoader))\n",
        "    # Save a checkpoint\n",
        "    checkpointFilename = 'checkpoints/mnist-{:03d}.pth'.format(epoch) \n",
        "    saveCheckpoint(model, epoch, checkpointFilename)\n",
        "\n",
        "        \n",
        "    #print(\"Validation Loss: (:.3f)..\".format(validLoss/len(validLoader))) \n",
        "    #print('Validation accuracy: {:.4f}%'.format(float(accuracy) * 100)) \n",
        "    print(\"Training Loss: {:.3f} \".format(runningLoss/len(trainLoader)),\n",
        "          \"\\nTest Loss: {:.3f} \".format(validLoss/len(validLoader)),\n",
        "          \"\\nTest Accuracy: {:.3f}\".format(accuracy/len(validLoader)*100))\n",
        "    print (\"\\n\")\n",
        "                                 \n"
      ],
      "execution_count": 0,
      "outputs": []
    },
    {
      "cell_type": "code",
      "metadata": {
        "id": "Rrmf6R3ULvB7",
        "colab_type": "code",
        "outputId": "42be2d45-722d-44db-9603-d9963f43a96c",
        "colab": {
          "base_uri": "https://localhost:8080/",
          "height": 1000
        }
      },
      "source": [
        "train(optimizer, model, num_epochs=15) "
      ],
      "execution_count": 0,
      "outputs": [
        {
          "output_type": "stream",
          "text": [
            "Epoch: 1/15.. \n"
          ],
          "name": "stdout"
        },
        {
          "output_type": "display_data",
          "data": {
            "text/html": [
              "\n",
              "        <p>Loss: 0.6286   60000 / 60000</p>\n",
              "        <progress value='60000' max='60000', style='width: 100%'>60000</progress>\n",
              "    "
            ],
            "text/plain": [
              "<IPython.core.display.HTML object>"
            ]
          },
          "metadata": {
            "tags": []
          }
        },
        {
          "output_type": "stream",
          "text": [
            "Training Loss: 0.629  \n",
            "Test Loss: 0.458  \n",
            "Test Accuracy: 83.190\n",
            "\n",
            "\n",
            "Epoch: 2/15.. \n"
          ],
          "name": "stdout"
        },
        {
          "output_type": "display_data",
          "data": {
            "text/html": [
              "\n",
              "        <p>Loss: 0.3908   60000 / 60000</p>\n",
              "        <progress value='60000' max='60000', style='width: 100%'>60000</progress>\n",
              "    "
            ],
            "text/plain": [
              "<IPython.core.display.HTML object>"
            ]
          },
          "metadata": {
            "tags": []
          }
        },
        {
          "output_type": "stream",
          "text": [
            "Training Loss: 0.391  \n",
            "Test Loss: 0.363  \n",
            "Test Accuracy: 86.765\n",
            "\n",
            "\n",
            "Epoch: 3/15.. \n"
          ],
          "name": "stdout"
        },
        {
          "output_type": "display_data",
          "data": {
            "text/html": [
              "\n",
              "        <p>Loss: 0.3325   60000 / 60000</p>\n",
              "        <progress value='60000' max='60000', style='width: 100%'>60000</progress>\n",
              "    "
            ],
            "text/plain": [
              "<IPython.core.display.HTML object>"
            ]
          },
          "metadata": {
            "tags": []
          }
        },
        {
          "output_type": "stream",
          "text": [
            "Training Loss: 0.332  \n",
            "Test Loss: 0.331  \n",
            "Test Accuracy: 88.331\n",
            "\n",
            "\n",
            "Epoch: 4/15.. \n"
          ],
          "name": "stdout"
        },
        {
          "output_type": "display_data",
          "data": {
            "text/html": [
              "\n",
              "        <p>Loss: 0.3060   60000 / 60000</p>\n",
              "        <progress value='60000' max='60000', style='width: 100%'>60000</progress>\n",
              "    "
            ],
            "text/plain": [
              "<IPython.core.display.HTML object>"
            ]
          },
          "metadata": {
            "tags": []
          }
        },
        {
          "output_type": "stream",
          "text": [
            "Training Loss: 0.306  \n",
            "Test Loss: 0.327  \n",
            "Test Accuracy: 88.035\n",
            "\n",
            "\n",
            "Epoch: 5/15.. \n"
          ],
          "name": "stdout"
        },
        {
          "output_type": "display_data",
          "data": {
            "text/html": [
              "\n",
              "        <p>Loss: 0.2842   60000 / 60000</p>\n",
              "        <progress value='60000' max='60000', style='width: 100%'>60000</progress>\n",
              "    "
            ],
            "text/plain": [
              "<IPython.core.display.HTML object>"
            ]
          },
          "metadata": {
            "tags": []
          }
        },
        {
          "output_type": "stream",
          "text": [
            "Training Loss: 0.284  \n",
            "Test Loss: 0.295  \n",
            "Test Accuracy: 89.090\n",
            "\n",
            "\n",
            "Epoch: 6/15.. \n"
          ],
          "name": "stdout"
        },
        {
          "output_type": "display_data",
          "data": {
            "text/html": [
              "\n",
              "        <p>Loss: 0.2658   60000 / 60000</p>\n",
              "        <progress value='60000' max='60000', style='width: 100%'>60000</progress>\n",
              "    "
            ],
            "text/plain": [
              "<IPython.core.display.HTML object>"
            ]
          },
          "metadata": {
            "tags": []
          }
        },
        {
          "output_type": "stream",
          "text": [
            "Training Loss: 0.266  \n",
            "Test Loss: 0.288  \n",
            "Test Accuracy: 89.294\n",
            "\n",
            "\n",
            "Epoch: 7/15.. \n"
          ],
          "name": "stdout"
        },
        {
          "output_type": "display_data",
          "data": {
            "text/html": [
              "\n",
              "        <p>Loss: 0.2546   60000 / 60000</p>\n",
              "        <progress value='60000' max='60000', style='width: 100%'>60000</progress>\n",
              "    "
            ],
            "text/plain": [
              "<IPython.core.display.HTML object>"
            ]
          },
          "metadata": {
            "tags": []
          }
        },
        {
          "output_type": "stream",
          "text": [
            "Training Loss: 0.255  \n",
            "Test Loss: 0.295  \n",
            "Test Accuracy: 88.841\n",
            "\n",
            "\n",
            "Epoch: 8/15.. \n"
          ],
          "name": "stdout"
        },
        {
          "output_type": "display_data",
          "data": {
            "text/html": [
              "\n",
              "        <p>Loss: 0.2452   60000 / 60000</p>\n",
              "        <progress value='60000' max='60000', style='width: 100%'>60000</progress>\n",
              "    "
            ],
            "text/plain": [
              "<IPython.core.display.HTML object>"
            ]
          },
          "metadata": {
            "tags": []
          }
        },
        {
          "output_type": "stream",
          "text": [
            "Training Loss: 0.245  \n",
            "Test Loss: 0.280  \n",
            "Test Accuracy: 89.780\n",
            "\n",
            "\n",
            "Epoch: 9/15.. \n"
          ],
          "name": "stdout"
        },
        {
          "output_type": "display_data",
          "data": {
            "text/html": [
              "\n",
              "        <p>Loss: 0.2312   60000 / 60000</p>\n",
              "        <progress value='60000' max='60000', style='width: 100%'>60000</progress>\n",
              "    "
            ],
            "text/plain": [
              "<IPython.core.display.HTML object>"
            ]
          },
          "metadata": {
            "tags": []
          }
        },
        {
          "output_type": "stream",
          "text": [
            "Training Loss: 0.231  \n",
            "Test Loss: 0.265  \n",
            "Test Accuracy: 90.178\n",
            "\n",
            "\n",
            "Epoch: 10/15.. \n"
          ],
          "name": "stdout"
        },
        {
          "output_type": "display_data",
          "data": {
            "text/html": [
              "\n",
              "        <p>Loss: 0.2183   60000 / 60000</p>\n",
              "        <progress value='60000' max='60000', style='width: 100%'>60000</progress>\n",
              "    "
            ],
            "text/plain": [
              "<IPython.core.display.HTML object>"
            ]
          },
          "metadata": {
            "tags": []
          }
        },
        {
          "output_type": "stream",
          "text": [
            "Training Loss: 0.218  \n",
            "Test Loss: 0.288  \n",
            "Test Accuracy: 89.345\n",
            "\n",
            "\n",
            "Epoch: 11/15.. \n"
          ],
          "name": "stdout"
        },
        {
          "output_type": "display_data",
          "data": {
            "text/html": [
              "\n",
              "        <p>Loss: 0.2157   60000 / 60000</p>\n",
              "        <progress value='60000' max='60000', style='width: 100%'>60000</progress>\n",
              "    "
            ],
            "text/plain": [
              "<IPython.core.display.HTML object>"
            ]
          },
          "metadata": {
            "tags": []
          }
        },
        {
          "output_type": "stream",
          "text": [
            "Training Loss: 0.216  \n",
            "Test Loss: 0.265  \n",
            "Test Accuracy: 90.223\n",
            "\n",
            "\n",
            "Epoch: 12/15.. \n"
          ],
          "name": "stdout"
        },
        {
          "output_type": "display_data",
          "data": {
            "text/html": [
              "\n",
              "        <p>Loss: 0.2082   60000 / 60000</p>\n",
              "        <progress value='60000' max='60000', style='width: 100%'>60000</progress>\n",
              "    "
            ],
            "text/plain": [
              "<IPython.core.display.HTML object>"
            ]
          },
          "metadata": {
            "tags": []
          }
        },
        {
          "output_type": "stream",
          "text": [
            "Training Loss: 0.208  \n",
            "Test Loss: 0.260  \n",
            "Test Accuracy: 90.318\n",
            "\n",
            "\n",
            "Epoch: 13/15.. \n"
          ],
          "name": "stdout"
        },
        {
          "output_type": "display_data",
          "data": {
            "text/html": [
              "\n",
              "        <p>Loss: 0.1995   60000 / 60000</p>\n",
              "        <progress value='60000' max='60000', style='width: 100%'>60000</progress>\n",
              "    "
            ],
            "text/plain": [
              "<IPython.core.display.HTML object>"
            ]
          },
          "metadata": {
            "tags": []
          }
        },
        {
          "output_type": "stream",
          "text": [
            "Training Loss: 0.200  \n",
            "Test Loss: 0.281  \n",
            "Test Accuracy: 90.210\n",
            "\n",
            "\n",
            "Epoch: 14/15.. \n"
          ],
          "name": "stdout"
        },
        {
          "output_type": "display_data",
          "data": {
            "text/html": [
              "\n",
              "        <p>Loss: 0.1968   60000 / 60000</p>\n",
              "        <progress value='60000' max='60000', style='width: 100%'>60000</progress>\n",
              "    "
            ],
            "text/plain": [
              "<IPython.core.display.HTML object>"
            ]
          },
          "metadata": {
            "tags": []
          }
        },
        {
          "output_type": "stream",
          "text": [
            "Training Loss: 0.197  \n",
            "Test Loss: 0.273  \n",
            "Test Accuracy: 90.155\n",
            "\n",
            "\n",
            "Epoch: 15/15.. \n"
          ],
          "name": "stdout"
        },
        {
          "output_type": "display_data",
          "data": {
            "text/html": [
              "\n",
              "        <p>Loss: 0.1880   60000 / 60000</p>\n",
              "        <progress value='60000' max='60000', style='width: 100%'>60000</progress>\n",
              "    "
            ],
            "text/plain": [
              "<IPython.core.display.HTML object>"
            ]
          },
          "metadata": {
            "tags": []
          }
        },
        {
          "output_type": "stream",
          "text": [
            "Training Loss: 0.188  \n",
            "Test Loss: 0.252  \n",
            "Test Accuracy: 90.819\n",
            "\n",
            "\n"
          ],
          "name": "stdout"
        }
      ]
    },
    {
      "cell_type": "markdown",
      "metadata": {
        "id": "P-DXCJJnspj3",
        "colab_type": "text"
      },
      "source": [
        "# Test a model on a random image"
      ]
    },
    {
      "cell_type": "code",
      "metadata": {
        "id": "6pL-SYEy-0Ti",
        "colab_type": "code",
        "outputId": "b0ab8833-2280-43f5-d31a-d1ed25ae5a7e",
        "colab": {
          "base_uri": "https://localhost:8080/",
          "height": 69
        }
      },
      "source": [
        "!ls checkpoints"
      ],
      "execution_count": 0,
      "outputs": [
        {
          "output_type": "stream",
          "text": [
            "mnist-001.pth  mnist-004.pth  mnist-007.pth  mnist-010.pth  mnist-013.pth\n",
            "mnist-002.pth  mnist-005.pth  mnist-008.pth  mnist-011.pth  mnist-014.pth\n",
            "mnist-003.pth  mnist-006.pth  mnist-009.pth  mnist-012.pth  mnist-015.pth\n"
          ],
          "name": "stdout"
        }
      ]
    },
    {
      "cell_type": "markdown",
      "metadata": {
        "id": "jT4aBgzMLkai",
        "colab_type": "text"
      },
      "source": [
        "### Load the model"
      ]
    },
    {
      "cell_type": "code",
      "metadata": {
        "id": "7LC8HUSMAO70",
        "colab_type": "code",
        "outputId": "f82ab2c9-40a2-4343-e2b8-b96ed4edb8a0",
        "colab": {
          "base_uri": "https://localhost:8080/",
          "height": 191
        }
      },
      "source": [
        "epoch = loadCheckpoint('checkpoints/mnist-012.pth')\n",
        "model.eval()"
      ],
      "execution_count": 0,
      "outputs": [
        {
          "output_type": "execute_result",
          "data": {
            "text/plain": [
              "Lenet5(\n",
              "  (conv1): Conv2d(1, 6, kernel_size=(5, 5), stride=(1, 1), padding=(2, 2))\n",
              "  (pool1): MaxPool2d(kernel_size=2, stride=2, padding=0, dilation=1, ceil_mode=False)\n",
              "  (conv2): Conv2d(6, 16, kernel_size=(5, 5), stride=(1, 1))\n",
              "  (pool2): MaxPool2d(kernel_size=2, stride=2, padding=0, dilation=1, ceil_mode=False)\n",
              "  (conv3): Conv2d(16, 120, kernel_size=(5, 5), stride=(1, 1))\n",
              "  (fc1): Linear(in_features=120, out_features=84, bias=True)\n",
              "  (fc2): Linear(in_features=84, out_features=10, bias=True)\n",
              "  (dropout): Dropout(p=0.2)\n",
              ")"
            ]
          },
          "metadata": {
            "tags": []
          },
          "execution_count": 19
        }
      ]
    },
    {
      "cell_type": "markdown",
      "metadata": {
        "id": "mORyNvAILeFj",
        "colab_type": "text"
      },
      "source": [
        "### Test the model on a random image"
      ]
    },
    {
      "cell_type": "code",
      "metadata": {
        "id": "IQqcwYNPq1KT",
        "colab_type": "code",
        "outputId": "f34c81f8-f9d2-433d-da1f-6d2a0c0fdd73",
        "colab": {
          "base_uri": "https://localhost:8080/",
          "height": 391
        }
      },
      "source": [
        "%matplotlib inline\n",
        "import random as r\n",
        "\n",
        "#loadedImg = validLoader.dataset.data[26] # Change value in the box to test on different images\n",
        "num = r.randint(0, 10000)\n",
        "loadedImg = validSet.test_data[num]\n",
        "loadedLabel = validSet.test_labels[num].numpy()\n",
        "plt.imshow(loadedImg)\n",
        "loadedImg = loadedImg.to(device)\n",
        "loadedImg = loadedImg[None, None]\n",
        "loadedImg = loadedImg.type('torch.cuda.FloatTensor') # instead of DoubleTensor\n",
        "\n",
        "out_predict = model(loadedImg)\n",
        "#print (out_predict)\n",
        "pred = out_predict.max(1, keepdim=True)[1]\n",
        "#print (pred)\n",
        "\n",
        "print(\"\\n\\tPredicted Label:\", labelDict[pred.item()], \"\\n\\tActual Label:\", labelDict[loadedLabel.item()])"
      ],
      "execution_count": 0,
      "outputs": [
        {
          "output_type": "stream",
          "text": [
            "\n",
            "\tPredicted Label: Trouser \n",
            "\tActual Label: Trouser\n"
          ],
          "name": "stdout"
        },
        {
          "output_type": "stream",
          "text": [
            "/usr/local/lib/python3.6/dist-packages/torchvision/datasets/mnist.py:58: UserWarning: test_data has been renamed data\n",
            "  warnings.warn(\"test_data has been renamed data\")\n",
            "/usr/local/lib/python3.6/dist-packages/torchvision/datasets/mnist.py:48: UserWarning: test_labels has been renamed targets\n",
            "  warnings.warn(\"test_labels has been renamed targets\")\n"
          ],
          "name": "stderr"
        },
        {
          "output_type": "display_data",
          "data": {
            "image/png": "[encoded data removed]",
            "text/plain": [
              "<Figure size 432x288 with 1 Axes>"
            ]
          },
          "metadata": {
            "tags": []
          }
        }
      ]
    },
    {
      "cell_type": "markdown",
      "metadata": {
        "id": "PZ4orrdIk6JF",
        "colab_type": "text"
      },
      "source": [
        "# Continue training from previous stored checkpoints\n"
      ]
    },
    {
      "cell_type": "code",
      "metadata": {
        "id": "pDdzj4WIlAHo",
        "colab_type": "code",
        "outputId": "27face82-f68d-4204-9168-cfc091e5a157",
        "colab": {
          "base_uri": "https://localhost:8080/",
          "height": 487
        }
      },
      "source": [
        "epoch = loadCheckpoint('checkpoints/mnist-015.pth')\n",
        "print('Resuming training from epoch', epoch)\n",
        "nextEpoch = epoch + 1\n",
        "train(optimizer, model, num_epochs=3, first_epoch=nextEpoch)"
      ],
      "execution_count": 0,
      "outputs": [
        {
          "output_type": "stream",
          "text": [
            "Resuming training from epoch 15\n",
            "Epoch: 16/3.. \n"
          ],
          "name": "stdout"
        },
        {
          "output_type": "display_data",
          "data": {
            "text/html": [
              "\n",
              "        <p>Loss: 0.1826   60000 / 60000</p>\n",
              "        <progress value='60000' max='60000', style='width: 100%'>60000</progress>\n",
              "    "
            ],
            "text/plain": [
              "<IPython.core.display.HTML object>"
            ]
          },
          "metadata": {
            "tags": []
          }
        },
        {
          "output_type": "stream",
          "text": [
            "Training Loss: 0.183  \n",
            "Test Loss: 0.264  \n",
            "Test Accuracy: 90.467\n",
            "\n",
            "\n",
            "Epoch: 17/3.. \n"
          ],
          "name": "stdout"
        },
        {
          "output_type": "display_data",
          "data": {
            "text/html": [
              "\n",
              "        <p>Loss: 0.1769   60000 / 60000</p>\n",
              "        <progress value='60000' max='60000', style='width: 100%'>60000</progress>\n",
              "    "
            ],
            "text/plain": [
              "<IPython.core.display.HTML object>"
            ]
          },
          "metadata": {
            "tags": []
          }
        },
        {
          "output_type": "stream",
          "text": [
            "Training Loss: 0.177  \n",
            "Test Loss: 0.251  \n",
            "Test Accuracy: 91.050\n",
            "\n",
            "\n",
            "Epoch: 18/3.. \n"
          ],
          "name": "stdout"
        },
        {
          "output_type": "display_data",
          "data": {
            "text/html": [
              "\n",
              "        <p>Loss: 0.1724   60000 / 60000</p>\n",
              "        <progress value='60000' max='60000', style='width: 100%'>60000</progress>\n",
              "    "
            ],
            "text/plain": [
              "<IPython.core.display.HTML object>"
            ]
          },
          "metadata": {
            "tags": []
          }
        },
        {
          "output_type": "stream",
          "text": [
            "Training Loss: 0.172  \n",
            "Test Loss: 0.266  \n",
            "Test Accuracy: 90.699\n",
            "\n",
            "\n"
          ],
          "name": "stdout"
        }
      ]
    },
    {
      "cell_type": "code",
      "metadata": {
        "id": "c0O3r43pP-NP",
        "colab_type": "code",
        "outputId": "e59b990d-4629-4a39-ba8a-4f465bd4b6a8",
        "colab": {
          "base_uri": "https://localhost:8080/",
          "height": 86
        }
      },
      "source": [
        "!ls checkpoints"
      ],
      "execution_count": 0,
      "outputs": [
        {
          "output_type": "stream",
          "text": [
            "mnist-001.pth  mnist-005.pth  mnist-009.pth  mnist-013.pth  mnist-017.pth\n",
            "mnist-002.pth  mnist-006.pth  mnist-010.pth  mnist-014.pth  mnist-018.pth\n",
            "mnist-003.pth  mnist-007.pth  mnist-011.pth  mnist-015.pth\n",
            "mnist-004.pth  mnist-008.pth  mnist-012.pth  mnist-016.pth\n"
          ],
          "name": "stdout"
        }
      ]
    }
  ]
}