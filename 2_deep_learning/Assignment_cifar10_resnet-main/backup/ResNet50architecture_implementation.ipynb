{
  "nbformat": 4,
  "nbformat_minor": 0,
  "metadata": {
    "colab": {
      "name": "ResNet50architecture_implementation.ipynb",
      "provenance": [],
      "collapsed_sections": [],
      "authorship_tag": "ABX9TyN0ifWkkjtxHuhqf+Laikkt",
      "include_colab_link": true
    },
    "kernelspec": {
      "name": "python3",
      "display_name": "Python 3"
    },
    "language_info": {
      "name": "python"
    }
  },
  "cells": [
    {
      "cell_type": "markdown",
      "metadata": {
        "id": "view-in-github",
        "colab_type": "text"
      },
      "source": [
        "<a href=\"https://colab.research.google.com/github/DimpleB0501/Assignment_cifar10_resnet/blob/main/backup/ResNet50architecture_implementation.ipynb\" target=\"_parent\"><img src=\"https://colab.research.google.com/assets/colab-badge.svg\" alt=\"Open In Colab\"/></a>"
      ]
    },
    {
      "cell_type": "code",
      "execution_count": null,
      "metadata": {
        "id": "X4i5Bgin0Iqf"
      },
      "outputs": [],
      "source": [
        "import torch\n",
        "import torch.nn as nn"
      ]
    },
    {
      "cell_type": "code",
      "source": [
        "class block(nn.Module):\n",
        "  def __init__(self, in_channels, out_channels, identity_downsample=None, stride=1): # identity downsample (conv layer) is used in case we have changed the input size or change number of channels\n",
        "    super(block, self).__init__()\n",
        "    self.expansion = 4 # number of channels after a block is 4 times what it was when it entered\n",
        "    \n",
        "    self.conv1 = nn.Conv2d(in_channels, out_channels, kernel_size = 1, stride = 1, padding = 0)\n",
        "    self.bn1 = nn.BatchNorm2d(out_channels)\n",
        "\n",
        "    self.conv2 = nn.Conv2d(out_channels, out_channels, kernel_size = 3, stride = stride, padding = 1)\n",
        "    self.bn2 = nn.BatchNorm2d(out_channels)\n",
        "\n",
        "    self.conv3 = nn.Conv2d(out_channels, out_channels*self.expansion, kernel_size = 1, stride = 1, padding = 0)\n",
        "    self.bn3 = nn.BatchNorm2d(out_channels*self.expansion)\n",
        "\n",
        "    self.relu = nn.ReLU()\n",
        "    self.identity_downsample = identity_downsample\n",
        "    self.stride = stride\n",
        "\n",
        "  def forward(self,x):\n",
        "    identity = x.clone()\n",
        "\n",
        "    x = self.conv1(x)\n",
        "    x = self.bn1(x)\n",
        "\n",
        "    x = self.conv2(x)\n",
        "    x = self.bn2(x)\n",
        "\n",
        "    x = self.conv3(x)\n",
        "    x = self.bn3(x)\n",
        "\n",
        "    if self.identity_downsample is not None:\n",
        "      identity  = self.identity_downsample(identity)\n",
        "\n",
        "    x += identity # y = x + f(x), reducing the error function f(x) so that input becomes equal to output\n",
        "    x = self.relu(x)\n",
        "\n",
        "    return x"
      ],
      "metadata": {
        "id": "DWUt--yr4r70"
      },
      "execution_count": null,
      "outputs": []
    },
    {
      "cell_type": "code",
      "source": [
        "class ResNet(nn.Module): \n",
        "  def __init__(self, block, layers, image_channels, num_classes): # block is residual block , layers tells us how many times we want to use the block, Resnet50 [3, 4, 6, 3], image channels (3 in case of RGB data), number of classes 10 for cifar10\n",
        "    super(ResNet, self).__init__()\n",
        "    self.in_channels = 64\n",
        "    self.conv1 = nn.Conv2d(image_channels, 64, kernel_size=7, stride=2, padding=3)\n",
        "    self.bn1 = nn.BatchNorm2d(64)\n",
        "    self.relu = nn.ReLU()\n",
        "\n",
        "    self.maxpool = nn.MaxPool2d(kernel_size=3, stride=2, padding=1)\n",
        "\n",
        "    # ResNet layers\n",
        "    self.layer1 = self._make_layer(block, layers[0], out_channels=64, stride = 1)\n",
        "    self.layer2 = self._make_layer(block, layers[1], out_channels=128, stride = 2)\n",
        "    self.layer3 = self._make_layer(block, layers[2], out_channels=256, stride = 2)\n",
        "    #self.layer4 = self._make_layer(block, layers[3], out_channels=512, stride = 2)\n",
        "\n",
        "    self.avgpool = nn.AdaptiveAvgPool2d((1,1))\n",
        "    #print (\"here\")\n",
        "    self.fc = nn.Linear(256*4, num_classes) # number of channels times expansion(4)\n",
        "\n",
        "  def forward(self, x):\n",
        "    x = self.conv1(x)\n",
        "    x = self.bn1(x)\n",
        "    x = self.relu(x)\n",
        "    x = self.maxpool(x)\n",
        "\n",
        "    x = self.layer1(x)\n",
        "    x = self.layer2(x)\n",
        "    x = self.layer3(x)\n",
        "    #x = self.layer4(x)\n",
        "\n",
        "    x = self.avgpool(x)\n",
        "    x = x.reshape(x.shape[0], -1)\n",
        "    x = self.fc(x)\n",
        "    return x\n",
        "\n",
        "  def _make_layer(self, block, num_residual_blocks, out_channels, stride): # number of times the blocks are used.\n",
        "    identity_downsample = None\n",
        "    layers = []\n",
        "\n",
        "    # identity_downsample is changed either when we change the input size or input channels is not equal to out channels\n",
        "    if stride != 1 or self.in_channels != out_channels * 4:\n",
        "      identity_downsample = nn.Sequential(\n",
        "                nn.Conv2d(\n",
        "                    self.in_channels,\n",
        "                    out_channels * 4,\n",
        "                    kernel_size=1,\n",
        "                    stride=stride,\n",
        "                ),\n",
        "                nn.BatchNorm2d(out_channels * 4),\n",
        "            )\n",
        "      \n",
        "    layers.append(block(self.in_channels, out_channels, identity_downsample, stride))  \n",
        "    self.in_channels = out_channels*4\n",
        "\n",
        "    for i in range(num_residual_blocks - 1):\n",
        "      layers.append(block(self.in_channels, out_channels))\n",
        "\n",
        "    return nn.Sequential(*layers)"
      ],
      "metadata": {
        "id": "C5TYX7HV8sFU"
      },
      "execution_count": null,
      "outputs": []
    },
    {
      "cell_type": "code",
      "source": [
        "def ResNet50(img_channels, num_classes=10):\n",
        "  return ResNet(block, [3,3,3], img_channels, num_classes)"
      ],
      "metadata": {
        "id": "KKcrm96IDwsy"
      },
      "execution_count": null,
      "outputs": []
    },
    {
      "cell_type": "code",
      "source": [
        "from functools import reduce\n",
        "def pytorch_count_params(model):\n",
        "  \"count number trainable parameters in a pytorch model\"\n",
        "  total_params = sum(reduce( lambda a, b: a*b, x.size()) for x in model.parameters())\n",
        "  return total_params"
      ],
      "metadata": {
        "id": "fjci4LntINA8"
      },
      "execution_count": null,
      "outputs": []
    },
    {
      "cell_type": "code",
      "source": [
        "from torchsummary import summary\n",
        "\n",
        "def test():\n",
        "  net = ResNet50(img_channels=3, num_classes=10).to(\"cuda\")\n",
        "  print(\"Total number of trainable parameters in ResNet50: \", pytorch_count_params(net))"
      ],
      "metadata": {
        "id": "Xcs-Q1-tEFIW"
      },
      "execution_count": null,
      "outputs": []
    },
    {
      "cell_type": "code",
      "source": [
        "test()"
      ],
      "metadata": {
        "colab": {
          "base_uri": "https://localhost:8080/"
        },
        "id": "4mOaYe5UEZDj",
        "outputId": "e532196f-9f0e-4222-c21e-a198bb31afa3"
      },
      "execution_count": null,
      "outputs": [
        {
          "output_type": "stream",
          "name": "stdout",
          "text": [
            "Total number of trainable parameters in ResNet50:  4931850\n"
          ]
        }
      ]
    }
  ]
}